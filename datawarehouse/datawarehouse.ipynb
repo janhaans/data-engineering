{
 "cells": [
  {
   "cell_type": "markdown",
   "id": "0daf008d-e699-4026-ab81-a64fdcf2f400",
   "metadata": {},
   "source": [
    "# Data Warehouse"
   ]
  },
  {
   "cell_type": "markdown",
   "id": "b4e7a01c",
   "metadata": {},
   "source": []
  }
 ],
 "metadata": {
  "kernelspec": {
   "display_name": "",
   "name": ""
  },
  "language_info": {
   "name": ""
  }
 },
 "nbformat": 4,
 "nbformat_minor": 5
}
